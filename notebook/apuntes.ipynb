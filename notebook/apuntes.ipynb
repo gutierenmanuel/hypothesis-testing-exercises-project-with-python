{
 "cells": [
  {
   "cell_type": "code",
   "execution_count": 3,
   "metadata": {},
   "outputs": [
    {
     "name": "stdout",
     "output_type": "stream",
     "text": [
      "0.12176491825183652\n",
      "Rechazamos la hipótesis nula. Es probable que el valor PERTENEZCA al conjunto\n"
     ]
    }
   ],
   "source": [
    "from scipy import stats\n",
    "import numpy as np\n",
    "\n",
    "# Datos de ejemplo\n",
    "data = [23, 28, 32, 35, 27, 30]\n",
    "valor_a_comprobar = 26\n",
    "\n",
    "# Realizar una prueba t de dos muestras\n",
    "t_statistic, p_value = stats.ttest_1samp(data, valor_a_comprobar)\n",
    "\n",
    "# Nivel de significancia\n",
    "alpha = 0.05\n",
    "\n",
    "print(p_value)\n",
    "\n",
    "if p_value < alpha:\n",
    "    print(\"Aceptamos la hipótesis nula. El valor NO pertenece al conjunto\")\n",
    "else:\n",
    "    print(\"Rechazamos la hipótesis nula. Es probable que el valor PERTENEZCA al conjunto\")"
   ]
  }
 ],
 "metadata": {
  "kernelspec": {
   "display_name": "venv",
   "language": "python",
   "name": "python3"
  },
  "language_info": {
   "codemirror_mode": {
    "name": "ipython",
    "version": 3
   },
   "file_extension": ".py",
   "mimetype": "text/x-python",
   "name": "python",
   "nbconvert_exporter": "python",
   "pygments_lexer": "ipython3",
   "version": "3.11.4"
  }
 },
 "nbformat": 4,
 "nbformat_minor": 2
}
